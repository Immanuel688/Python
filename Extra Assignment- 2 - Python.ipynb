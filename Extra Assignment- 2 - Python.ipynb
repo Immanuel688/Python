{
 "cells": [
  {
   "cell_type": "code",
   "execution_count": 1,
   "id": "3c90db0b",
   "metadata": {},
   "outputs": [
    {
     "name": "stdout",
     "output_type": "stream",
     "text": [
      "0\n",
      "1\n",
      "2\n",
      "3\n",
      "4\n",
      "5\n",
      "6\n",
      "7\n",
      "8\n",
      "9\n",
      "10\n",
      "11\n",
      "12\n",
      "13\n",
      "14\n",
      "15\n",
      "16\n",
      "17\n",
      "18\n",
      "19\n"
     ]
    }
   ],
   "source": [
    "#print 0 to 20 using range\n",
    "for number in range(0,20):\n",
    "    print(number)"
   ]
  },
  {
   "cell_type": "code",
   "execution_count": 4,
   "id": "483fc798",
   "metadata": {},
   "outputs": [
    {
     "name": "stdout",
     "output_type": "stream",
     "text": [
      "range(0, 20)\n"
     ]
    }
   ],
   "source": [
    "print(range(0,20))"
   ]
  },
  {
   "cell_type": "code",
   "execution_count": 3,
   "id": "8595ec1f",
   "metadata": {},
   "outputs": [
    {
     "name": "stdout",
     "output_type": "stream",
     "text": [
      "10 11 12 13 14 15 16 17 18 19 "
     ]
    }
   ],
   "source": [
    "#print range 10 to 20\n",
    "for number in range(10, 20):\n",
    "    print(number, end=' ')"
   ]
  },
  {
   "cell_type": "code",
   "execution_count": 5,
   "id": "231494b4",
   "metadata": {},
   "outputs": [],
   "source": [
    "LIST = [1, 2, 3, 4, 5]"
   ]
  },
  {
   "cell_type": "code",
   "execution_count": 8,
   "id": "6e98f16e",
   "metadata": {},
   "outputs": [
    {
     "name": "stdout",
     "output_type": "stream",
     "text": [
      "1 2 3 4 5 "
     ]
    }
   ],
   "source": [
    "for number in LIST:\n",
    "    print(number, end=' ')"
   ]
  },
  {
   "cell_type": "code",
   "execution_count": 2,
   "id": "326c1c2a",
   "metadata": {},
   "outputs": [
    {
     "name": "stdout",
     "output_type": "stream",
     "text": [
      "[10,20,30,40,50,60,70]\n",
      "The number of items in the list is: 7\n"
     ]
    }
   ],
   "source": [
    "#print number of items in list by using 'len'\n",
    "list=[10,20,30,40,50,60,70]\n",
    "z= len(list)\n",
    "print(\"[10,20,30,40,50,60,70]\")\n",
    "print(\"The number of items in the list is:\",z)\n"
   ]
  },
  {
   "cell_type": "code",
   "execution_count": 24,
   "id": "9d12b881",
   "metadata": {},
   "outputs": [
    {
     "name": "stdout",
     "output_type": "stream",
     "text": [
      "[10,20,30,40,50,60,70]\n",
      "The number of items in the list is:\n",
      "7\n"
     ]
    }
   ],
   "source": [
    "list=[10,20,30,40,50,60,70]\n",
    "print(\"[10,20,30,40,50,60,70]\")\n",
    "print(\"The number of items in the list is:\")\n",
    "print(len(list))"
   ]
  },
  {
   "cell_type": "code",
   "execution_count": 5,
   "id": "7d725b89",
   "metadata": {},
   "outputs": [
    {
     "name": "stdout",
     "output_type": "stream",
     "text": [
      "abcdefgh\n",
      "8\n"
     ]
    }
   ],
   "source": [
    "name=input()\n",
    "print(len(name))"
   ]
  },
  {
   "cell_type": "code",
   "execution_count": 18,
   "id": "0cceec85",
   "metadata": {},
   "outputs": [
    {
     "name": "stdout",
     "output_type": "stream",
     "text": [
      "Artificial Intelligence\n",
      "A\n",
      "r\n",
      "t\n",
      "i\n",
      "f\n",
      "i\n",
      "c\n",
      "i\n",
      "a\n",
      "l\n",
      " \n",
      "I\n",
      "n\n",
      "t\n",
      "e\n",
      "l\n",
      "l\n",
      "i\n",
      "g\n",
      "e\n",
      "n\n",
      "c\n",
      "e\n"
     ]
    }
   ],
   "source": [
    "subject=input()\n",
    "for letter in subject:\n",
    "    print(letter)"
   ]
  },
  {
   "cell_type": "code",
   "execution_count": 19,
   "id": "88d2ba07",
   "metadata": {},
   "outputs": [
    {
     "name": "stdout",
     "output_type": "stream",
     "text": [
      "A\n",
      "r\n",
      "t\n",
      "i\n",
      "f\n",
      "i\n",
      "c\n",
      "i\n",
      "a\n",
      "l\n",
      " \n",
      "I\n",
      "n\n",
      "t\n",
      "e\n",
      "l\n",
      "l\n",
      "i\n",
      "g\n",
      "e\n",
      "n\n",
      "c\n",
      "e\n"
     ]
    }
   ],
   "source": [
    "for letter in \"Artificial Intelligence\":\n",
    "    print(letter)"
   ]
  },
  {
   "cell_type": "code",
   "execution_count": 21,
   "id": "79912c7f",
   "metadata": {},
   "outputs": [
    {
     "name": "stdout",
     "output_type": "stream",
     "text": [
      "-Immanuel-\n",
      "-25-\n",
      "-IT-\n"
     ]
    }
   ],
   "source": [
    "print(\"-Immanuel-\")\n",
    "print(\"-25-\")\n",
    "print(\"-IT-\")"
   ]
  },
  {
   "cell_type": "code",
   "execution_count": 25,
   "id": "5f9cf805",
   "metadata": {},
   "outputs": [
    {
     "name": "stdout",
     "output_type": "stream",
     "text": [
      "Immanuel\n",
      "25\n",
      "IT\n"
     ]
    }
   ],
   "source": [
    "print(\"Immanuel\\n25\\nIT\")"
   ]
  },
  {
   "cell_type": "code",
   "execution_count": 6,
   "id": "95e7735d",
   "metadata": {},
   "outputs": [
    {
     "name": "stdout",
     "output_type": "stream",
     "text": [
      "(1, 'Welcome', 2, 'Hope')\n"
     ]
    }
   ],
   "source": [
    "#print mixered datatype using tuples\n",
    "tuples=(1,'Welcome',2,'Hope')\n",
    "print(tuples)"
   ]
  },
  {
   "cell_type": "code",
   "execution_count": 4,
   "id": "6b397854",
   "metadata": {},
   "outputs": [
    {
     "name": "stdout",
     "output_type": "stream",
     "text": [
      "((0, 1, 2, 3), ('python', 'Hope'))\n"
     ]
    }
   ],
   "source": [
    "tuple1=(0,1,2,3)\n",
    "tuple=('python','Hope')\n",
    "print((tuple1,tuple))"
   ]
  },
  {
   "cell_type": "code",
   "execution_count": 7,
   "id": "1a140919",
   "metadata": {},
   "outputs": [
    {
     "name": "stdout",
     "output_type": "stream",
     "text": [
      "20 is even\n",
      "10 is even\n",
      "16 is even\n",
      "276 is even\n",
      "188 is even\n"
     ]
    }
   ],
   "source": [
    "#print even numbers in the list\n",
    "list=[20,10,16,19,25,1,276,188]\n",
    "for num in list:\n",
    "    if((num%2)==0):\n",
    "        print(num,\"is even\")"
   ]
  },
  {
   "cell_type": "code",
   "execution_count": 8,
   "id": "c30ac427",
   "metadata": {},
   "outputs": [
    {
     "name": "stdout",
     "output_type": "stream",
     "text": [
      "19 is odd\n",
      "25 is odd\n",
      "1 is odd\n"
     ]
    }
   ],
   "source": [
    "#print odd numbersin the list\n",
    "list=[20,10,16,19,25,1,276,188]\n",
    "for num in list:\n",
    "    if((num%2)>0):\n",
    "        print(num,\"is odd\")"
   ]
  }
 ],
 "metadata": {
  "kernelspec": {
   "display_name": "Python 3 (ipykernel)",
   "language": "python",
   "name": "python3"
  },
  "language_info": {
   "codemirror_mode": {
    "name": "ipython",
    "version": 3
   },
   "file_extension": ".py",
   "mimetype": "text/x-python",
   "name": "python",
   "nbconvert_exporter": "python",
   "pygments_lexer": "ipython3",
   "version": "3.11.5"
  }
 },
 "nbformat": 4,
 "nbformat_minor": 5
}
