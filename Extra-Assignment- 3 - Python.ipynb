{
 "cells": [
  {
   "cell_type": "code",
   "execution_count": 1,
   "id": "90ea43a6",
   "metadata": {},
   "outputs": [
    {
     "name": "stdout",
     "output_type": "stream",
     "text": [
      "value:10\n",
      "CORRECT\n"
     ]
    }
   ],
   "source": [
    "#print 'CORRECT' if i==10\n",
    "i=int(input(\"value:\"))\n",
    "if(i==10):\n",
    "      print(\"CORRECT\")"
   ]
  },
  {
   "cell_type": "code",
   "execution_count": 9,
   "id": "7d5a6999",
   "metadata": {},
   "outputs": [
    {
     "name": "stdout",
     "output_type": "stream",
     "text": [
      "Enter your password:HOPE@123\n",
      "Your password is correct\n"
     ]
    }
   ],
   "source": [
    "#CHECK PASSWORD USING if else\n",
    "password=input(\"Enter your password:\")\n",
    "if(password=='HOPE@123'):\n",
    "    print(\"Your password is correct\")"
   ]
  },
  {
   "cell_type": "code",
   "execution_count": 25,
   "id": "eff42d91",
   "metadata": {},
   "outputs": [
    {
     "name": "stdout",
     "output_type": "stream",
     "text": [
      "Enter your age:20\n",
      "Adult\n"
     ]
    }
   ],
   "source": [
    "#Categorise people by age\n",
    "age=int(input(\"Enter your age:\"))\n",
    "if(age<18):\n",
    "    print(\"kiddo\")\n",
    "elif(age<30):\n",
    "    print('Adult')\n",
    "elif(age<60):\n",
    "    print(\"citizen\")\n",
    "else:\n",
    "    print(\"senior citizen\")"
   ]
  },
  {
   "cell_type": "code",
   "execution_count": 22,
   "id": "99cdc253",
   "metadata": {},
   "outputs": [
    {
     "name": "stdout",
     "output_type": "stream",
     "text": [
      "Enter any number:1\n",
      "num is postive\n"
     ]
    }
   ],
   "source": [
    "#check whether number is positive or negative\n",
    "num=int(input(\"Enter any number:\"))\n",
    "if(num>0):\n",
    "    print(\"num is postive\")\n",
    "else:\n",
    "    print(\"num is negative\")"
   ]
  },
  {
   "cell_type": "code",
   "execution_count": 23,
   "id": "33c3ec25",
   "metadata": {},
   "outputs": [
    {
     "name": "stdout",
     "output_type": "stream",
     "text": [
      "Enter a number to check:22\n",
      "num is not divisible by 5\n"
     ]
    }
   ],
   "source": [
    "#check whether number is divisible by 5\n",
    "num=int(input(\"Enter a number to check:\"))\n",
    "if((num%5)==0):\n",
    "    print(\"num is divisible by 5\")\n",
    "else:\n",
    "    print(\"num is not divisible by 5\")"
   ]
  },
  {
   "cell_type": "code",
   "execution_count": 24,
   "id": "99997486",
   "metadata": {},
   "outputs": [
    {
     "name": "stdout",
     "output_type": "stream",
     "text": [
      "Enter a number to check:22\n",
      "num is not divisible by 5\n"
     ]
    }
   ],
   "source": [
    "num=int(input(\"Enter a number to check:\"))\n",
    "if((num%5)>0):\n",
    "    print(\"num is not divisible by 5\")\n",
    "else:\n",
    "    print(\"num is divisible by 5\")"
   ]
  },
  {
   "cell_type": "code",
   "execution_count": null,
   "id": "beeac516",
   "metadata": {},
   "outputs": [],
   "source": []
  }
 ],
 "metadata": {
  "kernelspec": {
   "display_name": "Python 3 (ipykernel)",
   "language": "python",
   "name": "python3"
  },
  "language_info": {
   "codemirror_mode": {
    "name": "ipython",
    "version": 3
   },
   "file_extension": ".py",
   "mimetype": "text/x-python",
   "name": "python",
   "nbconvert_exporter": "python",
   "pygments_lexer": "ipython3",
   "version": "3.11.5"
  }
 },
 "nbformat": 4,
 "nbformat_minor": 5
}
