{
 "cells": [
  {
   "cell_type": "code",
   "execution_count": 1,
   "id": "af0d7861",
   "metadata": {},
   "outputs": [],
   "source": [
    "#class and functions using list\n",
    "class SubfieldsinAI():\n",
    "    def Subfields():\n",
    "        list=['Machine Learning','Neural Networks','Vision','Robotics','speech processing','Natural language processing']\n",
    "        print(\"Sub-fields in AI are :\")\n",
    "        for subfields in list:\n",
    "                print(subfields)"
   ]
  },
  {
   "cell_type": "code",
   "execution_count": 3,
   "id": "bbd81b03",
   "metadata": {},
   "outputs": [
    {
     "name": "stdout",
     "output_type": "stream",
     "text": [
      "Sub-fields in AI are :\n",
      "Machine Learning\n",
      "Neural Networks\n",
      "Vision\n",
      "Robotics\n",
      "speech processing\n",
      "Natural language processing\n"
     ]
    }
   ],
   "source": [
    "SubfieldsinAI.Subfields()"
   ]
  },
  {
   "cell_type": "code",
   "execution_count": 5,
   "id": "1e6c2541",
   "metadata": {},
   "outputs": [],
   "source": [
    "#class and functions using odd even\n",
    "class oddeven():\n",
    "    def oddeven():\n",
    "        num=int(input(\"enter the number:\"))\n",
    "        if((num%2)==0):\n",
    "            print(num,\"is even number\")\n",
    "        else:\n",
    "            print(num,\"is odd number\")"
   ]
  },
  {
   "cell_type": "code",
   "execution_count": 7,
   "id": "f0b3c9f4",
   "metadata": {},
   "outputs": [
    {
     "name": "stdout",
     "output_type": "stream",
     "text": [
      "enter the number:52452\n",
      "52452 is even number\n"
     ]
    }
   ],
   "source": [
    "oddeven.oddeven()"
   ]
  },
  {
   "cell_type": "code",
   "execution_count": 13,
   "id": "c20302d6",
   "metadata": {},
   "outputs": [],
   "source": [
    "#Function on marriage eligibility\n",
    "class eligibilityformarriage():\n",
    "    def eligible():\n",
    "        gender=input(\"your gender:\")\n",
    "        age=int(input(\"your age:\"))\n",
    "        if(gender=='male'):\n",
    "            if(age>21):\n",
    "                print(\"eligible\")\n",
    "            else:\n",
    "                print(\"not eligible\")\n",
    "        if(gender=='female'):\n",
    "            if(age>18):\n",
    "                print(\"eligible\")\n",
    "            else:\n",
    "                print(\"not eligible\")"
   ]
  },
  {
   "cell_type": "code",
   "execution_count": 14,
   "id": "ccf572f1",
   "metadata": {},
   "outputs": [
    {
     "name": "stdout",
     "output_type": "stream",
     "text": [
      "your gender:male\n",
      "your age:20\n",
      "not eligible\n"
     ]
    }
   ],
   "source": [
    "eligibilityformarriage.eligible()"
   ]
  },
  {
   "cell_type": "code",
   "execution_count": 16,
   "id": "1058c666",
   "metadata": {},
   "outputs": [],
   "source": [
    "#Calculate your 10th std percentage\n",
    "class findpercent():\n",
    "    def percentage():\n",
    "        subject1=int(input(\"Subject1=\"))\n",
    "        subject2=int(input(\"Subject2=\"))\n",
    "        subject3=int(input(\"Subject3=\"))\n",
    "        subject4=int(input(\"Subject4=\"))\n",
    "        subject5=int(input(\"Subject5=\"))\n",
    "        Total=subject1+subject2+subject3+subject4+subject5\n",
    "        print(\"Total:\",Total)\n",
    "        print(\"percentage:\",(Total/500)*100)"
   ]
  },
  {
   "cell_type": "code",
   "execution_count": 17,
   "id": "fba55345",
   "metadata": {},
   "outputs": [
    {
     "name": "stdout",
     "output_type": "stream",
     "text": [
      "Subject1=98\n",
      "Subject2=87\n",
      "Subject3=95\n",
      "Subject4=95\n",
      "Subject5=93\n",
      "Total: 468\n",
      "percentage: 93.60000000000001\n"
     ]
    }
   ],
   "source": [
    "findpercent.percentage()"
   ]
  },
  {
   "cell_type": "code",
   "execution_count": 18,
   "id": "e3d20c9f",
   "metadata": {},
   "outputs": [],
   "source": [
    "#Area and perimeter of a triangle using class and function\n",
    "class triangle():\n",
    "    def triangle():\n",
    "        height=int(input(\"height :\"))\n",
    "        breadth=int(input(\"breadth :\"))\n",
    "        print(\"Area formula:(height*breadth)/2\")\n",
    "        print(\"Area of triangle\", (height*breadth)/2)\n",
    "        height1=int(input(\"height1 :\"))\n",
    "        height2=int(input(\"height2 :\"))\n",
    "        breadth=int(input(\"breadth :\"))\n",
    "        print(\"perimeter formula: height1+height2+breadth\")\n",
    "        print(\"perimeter of the triangle:\", height1+height2+breadth)"
   ]
  },
  {
   "cell_type": "code",
   "execution_count": 19,
   "id": "7ef34861",
   "metadata": {},
   "outputs": [
    {
     "name": "stdout",
     "output_type": "stream",
     "text": [
      "height :32\n",
      "breadth :34\n",
      "Area formula:(height*breadth)/2\n",
      "Area of triangle 544.0\n",
      "height1 :2\n",
      "height2 :4\n",
      "breadth :4\n",
      "perimeter formula: height1+height2+breadth\n",
      "perimeter of the triangle: 10\n"
     ]
    }
   ],
   "source": [
    "triangle.triangle()"
   ]
  },
  {
   "cell_type": "code",
   "execution_count": null,
   "id": "aaf501de",
   "metadata": {},
   "outputs": [],
   "source": []
  }
 ],
 "metadata": {
  "kernelspec": {
   "display_name": "Python 3 (ipykernel)",
   "language": "python",
   "name": "python3"
  },
  "language_info": {
   "codemirror_mode": {
    "name": "ipython",
    "version": 3
   },
   "file_extension": ".py",
   "mimetype": "text/x-python",
   "name": "python",
   "nbconvert_exporter": "python",
   "pygments_lexer": "ipython3",
   "version": "3.11.5"
  }
 },
 "nbformat": 4,
 "nbformat_minor": 5
}
