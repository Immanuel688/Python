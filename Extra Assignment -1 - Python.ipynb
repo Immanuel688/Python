{
 "cells": [
  {
   "cell_type": "code",
   "execution_count": null,
   "id": "e2e00250",
   "metadata": {},
   "outputs": [],
   "source": [
    "#print statement"
   ]
  },
  {
   "cell_type": "code",
   "execution_count": null,
   "id": "8b3fcc10",
   "metadata": {},
   "outputs": [],
   "source": [
    "print(\"HOPE AI\")"
   ]
  },
  {
   "cell_type": "code",
   "execution_count": null,
   "id": "8ed8103b",
   "metadata": {
    "scrolled": true
   },
   "outputs": [],
   "source": [
    "#buy input\n",
    "input(\"Enter yourinstitution name? :\")"
   ]
  },
  {
   "cell_type": "code",
   "execution_count": 5,
   "id": "e9ec53bc",
   "metadata": {},
   "outputs": [
    {
     "name": "stdout",
     "output_type": "stream",
     "text": [
      "Enter yourinstitution name? :HOPE AI\n"
     ]
    }
   ],
   "source": [
    "name=input(\"Enter yourinstitution name? :\")"
   ]
  },
  {
   "cell_type": "code",
   "execution_count": null,
   "id": "3e6d54d1",
   "metadata": {},
   "outputs": [],
   "source": [
    "name=input(\"Enter your name:\")\n",
    "age=int(input(\"Enter your age:\"))\n",
    "sklname=input(\"Enter yor school name:\")\n",
    "degree=input(\"Enter your degree:\")"
   ]
  },
  {
   "cell_type": "code",
   "execution_count": 1,
   "id": "3f96de20",
   "metadata": {},
   "outputs": [
    {
     "name": "stdout",
     "output_type": "stream",
     "text": [
      "Enter your name:IMMANUEL A\n",
      "Enter your age:25\n",
      "Enter yor school name:St. Patrick's\n",
      "Enter your degree:B.E. CA\n"
     ]
    }
   ],
   "source": [
    "name=input(\"Enter your name:\")\n",
    "age=int(input(\"Enter your age:\"))\n",
    "sklname=input(\"Enter yor school name:\")\n",
    "degree=input(\"Enter your degree:\")"
   ]
  },
  {
   "cell_type": "code",
   "execution_count": 4,
   "id": "8916b9f3",
   "metadata": {},
   "outputs": [
    {
     "name": "stdout",
     "output_type": "stream",
     "text": [
      "a= 43\n",
      "b= 34\n",
      "add= 77\n"
     ]
    }
   ],
   "source": [
    "#addition\n",
    "a=43;b=34;add=a+b\n",
    "print(\"a=\",a)\n",
    "print(\"b=\",b)\n",
    "print(\"add=\",a+b)"
   ]
  },
  {
   "cell_type": "markdown",
   "id": "3d9b338b",
   "metadata": {},
   "source": [
    "line add=a+b is not compulsory, you can directly perform the addition/sub/mut/div function in print statement"
   ]
  },
  {
   "cell_type": "code",
   "execution_count": 6,
   "id": "b2ec7336",
   "metadata": {},
   "outputs": [
    {
     "name": "stdout",
     "output_type": "stream",
     "text": [
      "a= 43\n",
      "b= 34\n",
      "sub= 9\n"
     ]
    }
   ],
   "source": [
    "#subtraction\n",
    "a=43;b=34;sub=a-b\n",
    "print(\"a=\",a);print(\"b=\",b);print(\"sub=\",sub)"
   ]
  },
  {
   "cell_type": "code",
   "execution_count": 8,
   "id": "03e8b6e3",
   "metadata": {},
   "outputs": [
    {
     "name": "stdout",
     "output_type": "stream",
     "text": [
      "a= 63\n",
      "b= 97\n",
      "Mul= 6111\n"
     ]
    }
   ],
   "source": [
    "#Multiplication\n",
    "a=63;b=97;Mul=a*b\n",
    "print(\"a=\",a)\n",
    "print(\"b=\",b)\n",
    "print(\"Mul=\",Mul)"
   ]
  },
  {
   "cell_type": "code",
   "execution_count": 22,
   "id": "770eec5d",
   "metadata": {},
   "outputs": [
    {
     "name": "stdout",
     "output_type": "stream",
     "text": [
      "a= 76\n",
      "b= 31\n",
      "float div= 2.4516129032258065\n"
     ]
    }
   ],
   "source": [
    "#Division\n",
    "a=76\n",
    "b=31\n",
    "print(\"a=\",a)\n",
    "print(\"b=\",b)\n",
    "print(\"float div=\",a/b)"
   ]
  },
  {
   "cell_type": "code",
   "execution_count": 25,
   "id": "dc9367cc",
   "metadata": {},
   "outputs": [
    {
     "name": "stdout",
     "output_type": "stream",
     "text": [
      "a= 90\n",
      "b= 31\n",
      "floor div= 2\n"
     ]
    }
   ],
   "source": [
    "#floor division\n",
    "a=90\n",
    "b=31\n",
    "div=int(a/b)\n",
    "print(\"a=\",a)\n",
    "print(\"b=\",b)\n",
    "print(\"floor div=\",div)"
   ]
  },
  {
   "cell_type": "code",
   "execution_count": 18,
   "id": "06525cea",
   "metadata": {},
   "outputs": [
    {
     "name": "stdout",
     "output_type": "stream",
     "text": [
      "a= 76\n",
      "b= 31\n",
      "modulo= 14\n"
     ]
    }
   ],
   "source": [
    "#modulo\n",
    "a=76;b=31;c=a%b\n",
    "print(\"a=\",a)\n",
    "print(\"b=\",b)\n",
    "print(\"modulo=\",c)\n"
   ]
  },
  {
   "cell_type": "code",
   "execution_count": 21,
   "id": "33c0558c",
   "metadata": {},
   "outputs": [
    {
     "name": "stdout",
     "output_type": "stream",
     "text": [
      "a= 4\n",
      "b= 4\n",
      "power= 256\n"
     ]
    }
   ],
   "source": [
    "#power\n",
    "a=4\n",
    "b=4\n",
    "print(\"a=\",a)\n",
    "print(\"b=\",b)\n",
    "print(\"power=\",pow(a,b))\n"
   ]
  },
  {
   "cell_type": "code",
   "execution_count": null,
   "id": "b6782fac",
   "metadata": {},
   "outputs": [],
   "source": []
  }
 ],
 "metadata": {
  "kernelspec": {
   "display_name": "Python 3 (ipykernel)",
   "language": "python",
   "name": "python3"
  },
  "language_info": {
   "codemirror_mode": {
    "name": "ipython",
    "version": 3
   },
   "file_extension": ".py",
   "mimetype": "text/x-python",
   "name": "python",
   "nbconvert_exporter": "python",
   "pygments_lexer": "ipython3",
   "version": "3.11.5"
  }
 },
 "nbformat": 4,
 "nbformat_minor": 5
}
