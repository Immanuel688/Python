{
 "cells": [
  {
   "cell_type": "code",
   "execution_count": 1,
   "id": "3c954d5f",
   "metadata": {},
   "outputs": [],
   "source": [
    "from ClassAssignment import ClassAssignment"
   ]
  },
  {
   "cell_type": "code",
   "execution_count": null,
   "id": "9552c167",
   "metadata": {},
   "outputs": [],
   "source": [
    "#Subfields in AI"
   ]
  },
  {
   "cell_type": "code",
   "execution_count": 2,
   "id": "a0f4579a",
   "metadata": {},
   "outputs": [
    {
     "name": "stdout",
     "output_type": "stream",
     "text": [
      "Sub-fields in AI are :\n",
      "Machine Learning\n",
      "Neural Networks\n",
      "Vision\n",
      "Robotics\n",
      "speech    processing\n",
      "Natural language processing\n"
     ]
    }
   ],
   "source": [
    "ClassAssignment.SubfieldsinAI()"
   ]
  },
  {
   "cell_type": "code",
   "execution_count": 5,
   "id": "1941ba5e",
   "metadata": {},
   "outputs": [
    {
     "name": "stdout",
     "output_type": "stream",
     "text": [
      "enter the number:52842\n",
      "52842 is even number\n"
     ]
    }
   ],
   "source": [
    "#Odd even\n",
    "ClassAssignment.oddeven()"
   ]
  },
  {
   "cell_type": "code",
   "execution_count": 4,
   "id": "52a821d0",
   "metadata": {},
   "outputs": [
    {
     "name": "stdout",
     "output_type": "stream",
     "text": [
      "your gender:male\n",
      "your age:20\n",
      "not eligible\n"
     ]
    }
   ],
   "source": [
    "#Marriage Eligibility\n",
    "ClassAssignment.marriageeligibiity()"
   ]
  },
  {
   "cell_type": "code",
   "execution_count": 6,
   "id": "e0ee5da7",
   "metadata": {},
   "outputs": [
    {
     "name": "stdout",
     "output_type": "stream",
     "text": [
      "Subject1=98\n",
      "Subject2=87\n",
      "Subject3=95\n",
      "Subject4=95\n",
      "Subject5=93\n",
      "Total: 468\n",
      "percentage: 93.60000000000001\n"
     ]
    }
   ],
   "source": [
    "#Percentage\n",
    "ClassAssignment.findpercent()"
   ]
  },
  {
   "cell_type": "code",
   "execution_count": 7,
   "id": "f0779180",
   "metadata": {},
   "outputs": [
    {
     "name": "stdout",
     "output_type": "stream",
     "text": [
      "height :32\n",
      "breadth :34\n",
      "Area formula:(height*breadth)/2\n",
      "Area of triangle 544.0\n",
      "height1 :2\n",
      "height2 :4\n",
      "breadth :4\n",
      "perimeter formula: height1+height2+breadth\n",
      "perimeter of the triangle: 10\n"
     ]
    }
   ],
   "source": [
    "#perimeter and area of triangle\n",
    "ClassAssignment.triangle()"
   ]
  },
  {
   "cell_type": "code",
   "execution_count": null,
   "id": "4a848cd8",
   "metadata": {},
   "outputs": [],
   "source": []
  }
 ],
 "metadata": {
  "kernelspec": {
   "display_name": "Python 3 (ipykernel)",
   "language": "python",
   "name": "python3"
  },
  "language_info": {
   "codemirror_mode": {
    "name": "ipython",
    "version": 3
   },
   "file_extension": ".py",
   "mimetype": "text/x-python",
   "name": "python",
   "nbconvert_exporter": "python",
   "pygments_lexer": "ipython3",
   "version": "3.11.5"
  }
 },
 "nbformat": 4,
 "nbformat_minor": 5
}
