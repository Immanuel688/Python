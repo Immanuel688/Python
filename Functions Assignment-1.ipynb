{
 "cells": [
  {
   "cell_type": "code",
   "execution_count": 23,
   "id": "e6ba741d",
   "metadata": {},
   "outputs": [],
   "source": [
    "#List out items using functions\n",
    "def SubfieldsinAI():\n",
    "    list=['Machine Learning','Neural Networks','Vision','Robotics','speech processing','Natural language processing']\n",
    "    print(\"Sub-fields in AI are :\")\n",
    "    for subfields in list:\n",
    "            print(subfields)"
   ]
  },
  {
   "cell_type": "code",
   "execution_count": 24,
   "id": "c3cc4493",
   "metadata": {},
   "outputs": [
    {
     "name": "stdout",
     "output_type": "stream",
     "text": [
      "Sub-fields in AI are :\n",
      "Machine Learning\n",
      "Neural Networks\n",
      "Vision\n",
      "Robotics\n",
      "speech processing\n",
      "Natural language processing\n"
     ]
    }
   ],
   "source": [
    "SubfieldsinAI()"
   ]
  },
  {
   "cell_type": "code",
   "execution_count": 20,
   "id": "a8239984",
   "metadata": {},
   "outputs": [],
   "source": [
    "#List out items using functions\n",
    "def SubfieldsinAI():\n",
    "    list=['Machine Learning','Neural Networks','Vision','Robotics','speech processing','Natural language processing']\n",
    "    print(\"Sub-fields in AI are :\")\n",
    "    for subfields in list:\n",
    "            print(subfields)\n",
    "            value=\"subfields\"\n",
    "    return value"
   ]
  },
  {
   "cell_type": "code",
   "execution_count": 22,
   "id": "7985b519",
   "metadata": {},
   "outputs": [
    {
     "name": "stdout",
     "output_type": "stream",
     "text": [
      "Sub-fields in AI are :\n",
      "Machine Learning\n",
      "Neural Networks\n",
      "Vision\n",
      "Robotics\n",
      "speech processing\n",
      "Natural language processing\n"
     ]
    }
   ],
   "source": [
    "value=SubfieldsinAI()"
   ]
  },
  {
   "cell_type": "code",
   "execution_count": 26,
   "id": "86310dbe",
   "metadata": {},
   "outputs": [],
   "source": [
    "#functions with odd or even\n",
    "\n",
    "def oddeven():\n",
    "    num=int(input(\"enter the number:\"))\n",
    "    if((num%2)==0):\n",
    "        print(num,\"is even number\")\n",
    "    else:\n",
    "        print(num,\"is odd number\")"
   ]
  },
  {
   "cell_type": "code",
   "execution_count": 27,
   "id": "20da072e",
   "metadata": {},
   "outputs": [
    {
     "name": "stdout",
     "output_type": "stream",
     "text": [
      "enter the number:52452\n",
      "52452 is even number\n"
     ]
    }
   ],
   "source": [
    "oddeven()"
   ]
  },
  {
   "cell_type": "code",
   "execution_count": 31,
   "id": "508c69e6",
   "metadata": {},
   "outputs": [],
   "source": [
    "#Function on marriage eligibility\n",
    "def marriageeligibiity():\n",
    "    gender=input(\"your gender:\")\n",
    "    age=int(input(\"your age:\"))\n",
    "    if(gender=='male'):\n",
    "        if(age>21):\n",
    "            print(\"eligible\")\n",
    "        else:\n",
    "            print(\"not eligible\")\n",
    "    if(gender=='female'):\n",
    "        if(age>18):\n",
    "            print(\"eligible\")\n",
    "        else:\n",
    "            print(\"not eligible\")\n",
    "            "
   ]
  },
  {
   "cell_type": "code",
   "execution_count": 33,
   "id": "4d958046",
   "metadata": {},
   "outputs": [
    {
     "name": "stdout",
     "output_type": "stream",
     "text": [
      "your gender:female\n",
      "your age:67\n",
      "eligible\n"
     ]
    }
   ],
   "source": [
    "marriageeligibiity()"
   ]
  },
  {
   "cell_type": "code",
   "execution_count": 37,
   "id": "a6a58480",
   "metadata": {},
   "outputs": [],
   "source": [
    "def marriageeligibiity1():\n",
    "    gender=input(\"your gender:\")\n",
    "    age=int(input(\"your age:\"))\n",
    "    if(gender=='male'):\n",
    "        if(age>21):\n",
    "            print(\"eligible\")\n",
    "        else:\n",
    "            print(\"not eligible\")\n",
    "    elif(age>18):\n",
    "            print(\"eligible\")\n",
    "    else:\n",
    "            print(\"not eligible\")"
   ]
  },
  {
   "cell_type": "code",
   "execution_count": 38,
   "id": "6ffd139e",
   "metadata": {},
   "outputs": [
    {
     "name": "stdout",
     "output_type": "stream",
     "text": [
      "your gender:female\n",
      "your age:08\n",
      "not eligible\n"
     ]
    }
   ],
   "source": [
    "marriageeligibiity1()"
   ]
  },
  {
   "cell_type": "code",
   "execution_count": 47,
   "id": "92d9963f",
   "metadata": {},
   "outputs": [],
   "source": [
    "#Calculate your 10th std percentage\n",
    "def findpercent():\n",
    "    subject1=int(input(\"Subject1=\"))\n",
    "    subject2=int(input(\"Subject2=\"))\n",
    "    subject3=int(input(\"Subject3=\"))\n",
    "    subject4=int(input(\"Subject4=\"))\n",
    "    subject5=int(input(\"Subject5=\"))\n",
    "    Total=subject1+subject2+subject3+subject4+subject5\n",
    "    print(\"Total:\",Total)\n",
    "    print(\"percentage:\",(Total/500)*100)"
   ]
  },
  {
   "cell_type": "code",
   "execution_count": 48,
   "id": "3a68ba6f",
   "metadata": {},
   "outputs": [
    {
     "name": "stdout",
     "output_type": "stream",
     "text": [
      "Subject1=98\n",
      "Subject2=87\n",
      "Subject3=95\n",
      "Subject4=95\n",
      "Subject5=93\n",
      "Total: 468\n",
      "percentage: 93.60000000000001\n"
     ]
    }
   ],
   "source": [
    "findpercent()"
   ]
  },
  {
   "cell_type": "code",
   "execution_count": 49,
   "id": "215faf73",
   "metadata": {},
   "outputs": [],
   "source": [
    "def triangle():\n",
    "    height=int(input(\"height :\"))\n",
    "    breadth=int(input(\"breadth :\"))\n",
    "    print(\"Area formula:(height*breadth)/2\")\n",
    "    print(\"Area of triangle\", (height*breadth)/2)\n",
    "    height1=int(input(\"height1 :\"))\n",
    "    height2=int(input(\"height2 :\"))\n",
    "    breadth=int(input(\"breadth :\"))\n",
    "    print(\"perimeter formula: height1+height2+breadth\")\n",
    "    print(\"perimeter of the triangle:\", height1+height2+breadth)"
   ]
  },
  {
   "cell_type": "code",
   "execution_count": 50,
   "id": "dc2ea727",
   "metadata": {},
   "outputs": [
    {
     "name": "stdout",
     "output_type": "stream",
     "text": [
      "height :32\n",
      "breadth :34\n",
      "Area formula:(height*breadth)/2\n",
      "Area of triangle 544.0\n",
      "height1 :2\n",
      "height2 :4\n",
      "breadth :4\n",
      "perimeter formula: height1+height2+breadth\n",
      "perimeter of the triangle: 10\n"
     ]
    }
   ],
   "source": [
    "triangle()"
   ]
  },
  {
   "cell_type": "code",
   "execution_count": null,
   "id": "8ff7cd1a",
   "metadata": {},
   "outputs": [],
   "source": []
  }
 ],
 "metadata": {
  "kernelspec": {
   "display_name": "Python 3 (ipykernel)",
   "language": "python",
   "name": "python3"
  },
  "language_info": {
   "codemirror_mode": {
    "name": "ipython",
    "version": 3
   },
   "file_extension": ".py",
   "mimetype": "text/x-python",
   "name": "python",
   "nbconvert_exporter": "python",
   "pygments_lexer": "ipython3",
   "version": "3.11.5"
  }
 },
 "nbformat": 4,
 "nbformat_minor": 5
}
